{
 "cells": [
  {
   "cell_type": "code",
   "execution_count": null,
   "id": "outstanding-distinction",
   "metadata": {},
   "outputs": [],
   "source": [
    "import json"
   ]
  },
  {
   "cell_type": "markdown",
   "id": "grand-visit",
   "metadata": {},
   "source": [
    "Define the Dataset"
   ]
  },
  {
   "cell_type": "code",
   "execution_count": null,
   "id": "elegant-military",
   "metadata": {},
   "outputs": [],
   "source": [
    "\n",
    "inventory = {  1 : {\"Product Name\" : \"MacBook Air\" , \"Product Category\" : \"Laptop\" , \"Product Price\" : 165980 , \n",
    "               \"Product Rating\" : 5 , \"Product Inventory\" : 100},\n",
    "               2 : {\"Product Name\" : \"HP Spectre x360 14\" , \"Product Category\" : \"Laptop\" , \"Product Price\" : 79855 , \n",
    "               \"Product Rating\" : 5 , \"Product Inventory\" : 100},\n",
    "               3 : {\"Product Name\" : \"LG Gram 17\" , \"Product Category\" : \"Laptop\" , \"Product Price\" : 49875 , \n",
    "               \"Product Rating\" : 5 , \"Product Inventory\" : 100},\n",
    "               4 : {\"Product Name\" : \"HP Envy x360\" , \"Product Category\" : \"Laptop\" , \"Product Price\" : 54912 , \n",
    "               \"Product Rating\" : 5 , \"Product Inventory\" : 100},\n",
    "               5 : {\"Product Name\" : \"MacBook Pro 13\" , \"Product Category\" : \"Laptop\" , \"Product Price\" : 85632 , \n",
    "               \"Product Rating\" : 5 , \"Product Inventory\" : 100},\n",
    "               6 : {\"Product Name\" : \"Dell XPS 13 2-in-1\" , \"Product Category\" : \"Laptop\" , \"Product Price\" : 65874 , \n",
    "               \"Product Rating\" : 5 , \"Product Inventory\" : 100},\n",
    "               7 : {\"Product Name\" : \"Dell XPS 13\" , \"Product Category\" : \"Laptop\" , \"Product Price\" : 90036 , \n",
    "               \"Product Rating\" : 5 , \"Product Inventory\" : 100},\n",
    "               8 : {\"Product Name\" : \"Asus ROG Zephyrus G15\" , \"Product Category\" : \"Laptop\" , \"Product Price\" : 132659 , \n",
    "               \"Product Rating\" : 5 , \"Product Inventory\" : 100},\n",
    "               9 : {\"Product Name\" : \"Lenovo ThinkPad X1 Nano\" , \"Product Category\" : \"Laptop\" , \"Product Price\" : 50365 , \n",
    "               \"Product Rating\" : 5 , \"Product Inventory\" : 100},\n",
    "               10 : {\"Product Name\" : \"Asus ROG Zephyrus G14\" , \"Product Category\" : \"Laptop\" , \"Product Price\" : 120365 , \n",
    "               \"Product Rating\" : 5 , \"Product Inventory\" : 100},\n",
    "               11 : {\"Product Name\" : \"MacBook Pro\" , \"Product Category\" : \"Laptop\" , \"Product Price\" : 160000 , \n",
    "               \"Product Rating\" : 5 , \"Product Inventory\" : 100},\n",
    "               12 : {\"Product Name\" : \"HP Elite Dragonfly\" , \"Product Category\" : \"Laptop\" , \"Product Price\" : 45987 , \n",
    "               \"Product Rating\" : 5 , \"Product Inventory\" : 100},\n",
    "               13 : {\"Product Name\" : \"Lenovo’s Chromebook Duet\" , \"Product Category\" : \"Laptop\" , \"Product Price\" : 126598 , \n",
    "               \"Product Rating\" : 5 , \"Product Inventory\" : 100},\n",
    "               14 : {\"Product Name\" : \"Razer Book 13\" , \"Product Category\" : \"Laptop\" , \"Product Price\" : 140256 , \n",
    "               \"Product Rating\" : 5 , \"Product Inventory\" : 100},\n",
    "               15 : {\"Product Name\" : \"Lenovo Yoga 9i\" , \"Product Category\" : \"Laptop\" , \"Product Price\" : 52287 , \n",
    "               \"Product Rating\" : 5 , \"Product Inventory\" : 100},\n",
    "               16 : {\"Product Name\" : \"Dell Inspiron 14 Laptop\" , \"Product Category\" : \"Laptop\" , \"Product Price\" : 70265 , \n",
    "               \"Product Rating\" : 5 , \"Product Inventory\" : 100},\n",
    "               17 : {\"Product Name\" : \"Lenovo ThinkBook 14\" , \"Product Category\" : \"Laptop\" , \"Product Price\" : 60000 , \n",
    "               \"Product Rating\" : 5 , \"Product Inventory\" : 100},\n",
    "               18 : {\"Product Name\" : \"HP 245 G7\" , \"Product Category\" : \"Laptop\" , \"Product Price\" : 125000 , \n",
    "               \"Product Rating\" : 5 , \"Product Inventory\" : 100},\n",
    "               19 : {\"Product Name\" : \"Samsung Galaxy Z Flip3 5G\" , \"Product Category\" : \"Mobile\" , \"Product Price\" : 32987 , \n",
    "               \"Product Rating\" : 5 , \"Product Inventory\" : 100},\n",
    "               20 : {\"Product Name\" : \"OnePlus Nord CE 5G\" , \"Product Category\" : \"Mobile\" , \"Product Price\" : 45698 , \n",
    "               \"Product Rating\" : 5 , \"Product Inventory\" : 100},\n",
    "               21 : {\"Product Name\" : \"Galaxy Z Fold3 5G\" , \"Product Category\" : \"Mobile\" , \"Product Price\" : 67548 , \n",
    "               \"Product Rating\" : 5 , \"Product Inventory\" : 100},\n",
    "               22 : {\"Product Name\" : \"OnePlus 9R 5G\" , \"Product Category\" : \"Mobile\" , \"Product Price\" : 55008 , \n",
    "               \"Product Rating\" : 5 , \"Product Inventory\" : 100},\n",
    "               23 : {\"Product Name\" : \"OnePlus 9 5G\" , \"Product Category\" : \"Mobile\" , \"Product Price\" : 50002 , \n",
    "               \"Product Rating\" : 5 , \"Product Inventory\" : 100},\n",
    "               24 : {\"Product Name\" : \"Samsung Galaxy Note 20\" , \"Product Category\" : \"Mobile\" , \"Product Price\" : 69832 , \n",
    "               \"Product Rating\" : 5 , \"Product Inventory\" : 100},\n",
    "               25 : {\"Product Name\" : \"Motorola Edge+\" , \"Product Category\" : \"Mobile\" , \"Product Price\" : 40000 , \n",
    "               \"Product Rating\" : 5 , \"Product Inventory\" : 100},\n",
    "               26 : {\"Product Name\" : \"Vivo V21 5G\" , \"Product Category\" : \"Mobile\" , \"Product Price\" : 50000 , \n",
    "               \"Product Rating\" : 5 , \"Product Inventory\" : 100},\n",
    "               27 : {\"Product Name\" : \"Google Pixel 4a\" , \"Product Category\" : \"Mobile\" , \"Product Price\" : 42420 , \n",
    "               \"Product Rating\" : 5 , \"Product Inventory\" : 100},\n",
    "               28 : {\"Product Name\" : \"Asus Rog Phone 3\" , \"Product Category\" : \"Mobile\" , \"Product Price\" : 49999 , \n",
    "               \"Product Rating\" : 5 , \"Product Inventory\" : 100},\n",
    "               29 : {\"Product Name\" : \"Samsung Galaxy S10+\" , \"Product Category\" : \"Mobile\" , \"Product Price\" : 69448 , \n",
    "               \"Product Rating\" : 5 , \"Product Inventory\" : 100},\n",
    "               30 : {\"Product Name\" : \"Google - Pixel 4\" , \"Product Category\" : \"Mobile\" , \"Product Price\" : 53007 , \n",
    "               \"Product Rating\" : 5 , \"Product Inventory\" : 100} }\n",
    "                                                                 "
   ]
  },
  {
   "cell_type": "markdown",
   "id": "palestinian-challenge",
   "metadata": {},
   "source": [
    "Creating .json file"
   ]
  },
  {
   "cell_type": "code",
   "execution_count": null,
   "id": "ordinary-january",
   "metadata": {},
   "outputs": [],
   "source": [
    "js = json.dumps(inventory)\n",
    "\n",
    "fd = open(\"Inventory.json\",\"w\")\n",
    "fd.write(js)\n",
    "fd.close()\n",
    "\n",
    "fd = open(\"Inventory.json\",\"r\")\n",
    "inv = fd.read()\n",
    "txt = json.loads(inv)\n",
    "\n",
    "fd.close()"
   ]
  },
  {
   "cell_type": "markdown",
   "id": "expanded-satellite",
   "metadata": {},
   "source": [
    "Purchasing the items"
   ]
  },
  {
   "cell_type": "code",
   "execution_count": null,
   "id": "subsequent-virgin",
   "metadata": {},
   "outputs": [],
   "source": [
    "\n",
    "print(\"Thanks for choosing us\\n*********************\")\n",
    "    \n",
    "UId = input(\"Please enter product unique id (1-30): \")\n",
    "\n",
    "temp = txt[UId]\n",
    "\n",
    "if temp[\"Product Inventory\"] == 0:\n",
    "    print(\"\\nSorry, we are all out of\" , temp[\"Product Name\"] ,\".\", \"\\nIt will be available soon.\")\n",
    "    \n",
    "print(\"\\nHere is the product you searched for : \", txt[UId][\"Product Name\"] , \" which is a\" ,\n",
    "      txt[UId][\"Product Rating\"], \" Star \" , txt[UId][\"Product Category\"],\n",
    "      \" and costs ₹ \", txt[UId][\"Product Price\"] , \".\" )\n",
    "\n",
    "print(\"Quantity of \" , txt[UId][\"Product Name\"] , \"you would you like to buy?\")\n",
    "\n",
    "UId_quant = int(input())\n",
    "\n",
    "cost = temp[\"Product Price\"] * UId_quant \n",
    "\n",
    "print(\"Total cost is: \" ,cost )\n",
    "\n",
    "coupon = str(input(\"Apply coupon code(if any) : \"))\n",
    "if coupon == \"SAVE50\":\n",
    "      cost -= 50\n",
    "      print(\"Your new bill is :\" , cost)  \n",
    "elif coupon == \"SAVE100\":\n",
    "      cost -= 100\n",
    "      print(\"Your new bill is :\" , cost)  \n",
    "else:        \n",
    "      print(\"\")\n",
    "   \n",
    "\n",
    "confirm = str(input(\"Would you like to continue with the purchase? (Y/N)\")) \n",
    "             \n",
    "\n",
    "if confirm == \"Y\" or confirm == \"y\" or confirm == \"yes\" or confirm == \"YES\":\n",
    "    print(\"Thanks for the purchase.Have a great day\")\n",
    "    txt[UId][\"Product Inventory\"] -= UId_quant    \n",
    "    js = json.dumps(txt)\n",
    "    fd = open(\"inventory.json\", \"w\")\n",
    "    fd.write(js)\n",
    "    fd.close()  \n",
    "    \n",
    "elif confirm == \"N\" or confirm == \"n\" or confirm == \"no\" or confirm == \"NO\":\n",
    "    print(\"Thank you for your time, hope to see you again.\")\n",
    "else:\n",
    "    print(\"Please give a valid answer\")\n"
   ]
  },
  {
   "cell_type": "markdown",
   "id": "color-terrorist",
   "metadata": {},
   "source": [
    "Storing the record of the sale on every purchase"
   ]
  },
  {
   "cell_type": "code",
   "execution_count": null,
   "id": "genuine-order",
   "metadata": {},
   "outputs": [],
   "source": [
    "\n",
    "sale = {}\n",
    "\n",
    "if confirm == \"Y\" or confirm == \"y\" or confirm == \"yes\" or confirm == \"YES\":\n",
    "     sale[\"Product Id \"] = UId\n",
    "     sale[\"Product Name \"] = txt[UId][\"Product Name\"]\n",
    "     sale[\"Units sold \"] = UId_quant\n",
    "     sale[\"Profit made \"] = cost  \n",
    "    \n",
    "\n",
    "js = json.dumps(sale)\n",
    "fd = open(\"sales.json\", \"a\")\n",
    "fd.write(js)\n",
    "fd.close()\n"
   ]
  },
  {
   "cell_type": "markdown",
   "id": "rapid-leeds",
   "metadata": {},
   "source": [
    "Addition of inventory"
   ]
  },
  {
   "cell_type": "code",
   "execution_count": null,
   "id": "accepting-american",
   "metadata": {},
   "outputs": [],
   "source": [
    "\n",
    "print(\"Please enter the password: \")\n",
    "answer = str(input())\n",
    "\n",
    "if answer == \"owner\":\n",
    "    ID = int(input(\"Enter UID\"))\n",
    "    if ID <= 30 and ID >=1:\n",
    "        print(\"The product is :\" , inventory[ID])\n",
    "        add = int(input(\"Enter quantity to add :\"))\n",
    "        inventory[ID][\"Product Inventory\"] += add\n",
    "        print(\"new inventory is = \" , inventory[ID][\"Product Inventory\"])\n",
    "\n",
    "    else :\n",
    "        print(\"UID Invalid\")\n",
    "        \n",
    "else:\n",
    "    print(\"Wrong password\")\n",
    "    \n",
    "    \n",
    "js = json.dumps(inventory)\n",
    "fd = open(\"inventory.json\", \"w\")\n",
    "fd.write(js)\n",
    "fd.close()"
   ]
  },
  {
   "cell_type": "code",
   "execution_count": null,
   "id": "neutral-ultimate",
   "metadata": {},
   "outputs": [],
   "source": []
  }
 ],
 "metadata": {
  "kernelspec": {
   "display_name": "Python 3",
   "language": "python",
   "name": "python3"
  },
  "language_info": {
   "codemirror_mode": {
    "name": "ipython",
    "version": 3
   },
   "file_extension": ".py",
   "mimetype": "text/x-python",
   "name": "python",
   "nbconvert_exporter": "python",
   "pygments_lexer": "ipython3",
   "version": "3.8.5"
  }
 },
 "nbformat": 4,
 "nbformat_minor": 5
}
